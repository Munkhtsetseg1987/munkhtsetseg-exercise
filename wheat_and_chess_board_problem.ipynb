{
 "cells": [
  {
   "cell_type": "code",
   "execution_count": null,
   "id": "b4ad297e-c34f-4a55-a289-9d858f43099b",
   "metadata": {},
   "outputs": [],
   "source": [
    "wheat_and_chess_board_problem.ipynb"
   ]
  }
 ],
 "metadata": {
  "kernelspec": {
   "display_name": "Python 3 (ipykernel)",
   "language": "python",
   "name": "python3"
  },
  "language_info": {
   "codemirror_mode": {
    "name": "ipython",
    "version": 3
   },
   "file_extension": ".py",
   "mimetype": "text/x-python",
   "name": "python",
   "nbconvert_exporter": "python",
   "pygments_lexer": "ipython3",
   "version": "3.12.2"
  }
 },
 "nbformat": 4,
 "nbformat_minor": 5
}
