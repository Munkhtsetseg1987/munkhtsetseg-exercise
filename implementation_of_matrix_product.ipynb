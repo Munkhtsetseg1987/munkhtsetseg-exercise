{
 "cells": [
  {
   "cell_type": "markdown",
   "id": "f3f4279b-9f0c-4aa2-ba76-76578dda5a4b",
   "metadata": {},
   "source": [
    "[Problem 1] Matrix product is calculated manually"
   ]
  },
  {
   "cell_type": "code",
   "execution_count": 1,
   "id": "42969493-d8db-4058-a517-1c8cd6ba9561",
   "metadata": {},
   "outputs": [],
   "source": [
    "import numpy as np"
   ]
  },
  {
   "cell_type": "code",
   "execution_count": 2,
   "id": "eb5db3a1-8436-4b85-8c7c-66ee168cd65f",
   "metadata": {},
   "outputs": [],
   "source": [
    "a_ndarray = np.array([[-1, 2, 3], [4, -5, 6], [7, 8, -9]])\n",
    "b_ndarray = np.array([[0, 2, 1], [0, 2, -8], [2, 9, -1]])"
   ]
  },
  {
   "cell_type": "code",
   "execution_count": 3,
   "id": "b9ae15ad-ffcd-4a5f-9724-8c199a097350",
   "metadata": {},
   "outputs": [
    {
     "data": {
      "text/plain": [
       "array([[-1,  2,  3],\n",
       "       [ 4, -5,  6],\n",
       "       [ 7,  8, -9]])"
      ]
     },
     "execution_count": 3,
     "metadata": {},
     "output_type": "execute_result"
    }
   ],
   "source": [
    "a_ndarray"
   ]
  },
  {
   "cell_type": "code",
   "execution_count": 4,
   "id": "4828d78e-af30-4cdf-b738-74135ab99074",
   "metadata": {},
   "outputs": [
    {
     "data": {
      "text/plain": [
       "array([[ 0,  2,  1],\n",
       "       [ 0,  2, -8],\n",
       "       [ 2,  9, -1]])"
      ]
     },
     "execution_count": 4,
     "metadata": {},
     "output_type": "execute_result"
    }
   ],
   "source": [
    "b_ndarray"
   ]
  },
  {
   "cell_type": "code",
   "execution_count": 5,
   "id": "72cec782-b0fd-4dcd-9f19-bdd55ea7a572",
   "metadata": {},
   "outputs": [],
   "source": [
    "ab_mult = np.zeros((a_ndarray.shape[0], b_ndarray.shape[1]))"
   ]
  },
  {
   "cell_type": "code",
   "execution_count": 6,
   "id": "1fc5218e-bd2e-4b90-b0fb-f44fb0cbc87e",
   "metadata": {},
   "outputs": [
    {
     "data": {
      "text/plain": [
       "array([[  6.,  29., -20.],\n",
       "       [ 12.,  52.,  38.],\n",
       "       [-18., -51., -48.]])"
      ]
     },
     "execution_count": 6,
     "metadata": {},
     "output_type": "execute_result"
    }
   ],
   "source": [
    "for i in range(a_ndarray.shape[0]):\n",
    "    for j in range(b_ndarray.shape[1]):\n",
    "        ab_mult[i, j] = np.sum(a_ndarray[i, :]*b_ndarray[:, j])\n",
    "\n",
    "ab_mult"
   ]
  },
  {
   "cell_type": "markdown",
   "id": "c80a491c-1229-4ea4-a0aa-67a6d7578b47",
   "metadata": {},
   "source": [
    "[Problem 2] Calculation by NumPy function"
   ]
  },
  {
   "cell_type": "code",
   "execution_count": 7,
   "id": "4f2b60e2-cb1e-41b9-9e86-9f7d2fc761c0",
   "metadata": {},
   "outputs": [
    {
     "data": {
      "text/plain": [
       "array([[  6,  29, -20],\n",
       "       [ 12,  52,  38],\n",
       "       [-18, -51, -48]])"
      ]
     },
     "execution_count": 7,
     "metadata": {},
     "output_type": "execute_result"
    }
   ],
   "source": [
    "ab_matmul = np.matmul(a_ndarray, b_ndarray)\n",
    "ab_matmul"
   ]
  },
  {
   "cell_type": "code",
   "execution_count": 8,
   "id": "50727373-5b92-4fe6-ba76-0297fb3fce18",
   "metadata": {},
   "outputs": [
    {
     "data": {
      "text/plain": [
       "array([[  6,  29, -20],\n",
       "       [ 12,  52,  38],\n",
       "       [-18, -51, -48]])"
      ]
     },
     "execution_count": 8,
     "metadata": {},
     "output_type": "execute_result"
    }
   ],
   "source": [
    "ab_dot = np.dot(a_ndarray, b_ndarray)\n",
    "ab_dot"
   ]
  },
  {
   "cell_type": "code",
   "execution_count": 9,
   "id": "76982e0d-0ba2-4110-842d-a08694cb901b",
   "metadata": {},
   "outputs": [
    {
     "data": {
      "text/plain": [
       "array([[  6,  29, -20],\n",
       "       [ 12,  52,  38],\n",
       "       [-18, -51, -48]])"
      ]
     },
     "execution_count": 9,
     "metadata": {},
     "output_type": "execute_result"
    }
   ],
   "source": [
    "ab_at = a_ndarray@b_ndarray\n",
    "ab_at"
   ]
  },
  {
   "cell_type": "markdown",
   "id": "30d6c1ee-94dd-4d50-a35c-47eb3d4d6eb2",
   "metadata": {},
   "source": [
    "[Problem 3] Implementation of calculation of a certain element"
   ]
  },
  {
   "cell_type": "code",
   "execution_count": 10,
   "id": "4f29bd76-41b0-4c7b-9680-9ab25bce02d3",
   "metadata": {},
   "outputs": [
    {
     "data": {
      "text/plain": [
       "array([[  6.,  29., -20.],\n",
       "       [ 12.,  52.,  38.],\n",
       "       [-18., -51., -48.]])"
      ]
     },
     "execution_count": 10,
     "metadata": {},
     "output_type": "execute_result"
    }
   ],
   "source": [
    "a = a_ndarray\n",
    "b = b_ndarray\n",
    "ab_mult = np.zeros((a.shape[0], b.shape[1]))\n",
    "\n",
    "for i in range(a.shape[0]):\n",
    "    for j in range(b.shape[1]):\n",
    "        for k in range(b.shape[0]):\n",
    "            ab_mult[i][j] += a[i][k] * b[k][j]\n",
    "\n",
    "ab_mult"
   ]
  },
  {
   "cell_type": "markdown",
   "id": "6b0d2890-c41d-4fe2-ab68-7578c13242fa",
   "metadata": {},
   "source": [
    "[Problem 4] Creating a function that performs matrix multiplication"
   ]
  },
  {
   "cell_type": "code",
   "execution_count": 11,
   "id": "60446125-7f7f-4904-a31a-56196e80dc95",
   "metadata": {},
   "outputs": [],
   "source": [
    "def matrix_multiplication(a, b):\n",
    "\n",
    "    ## TODO comment\n",
    "\n",
    "    assert a.shape[0]==b.shape[1], \"Matrix dim is not suitable\"  #ERROR MSG\n",
    "    \n",
    "    ab_mult = np.zeros((a.shape[0], b.shape[1]))\n",
    "    \n",
    "    for i in range(a.shape[0]):\n",
    "        for j in range(b.shape[1]):\n",
    "            for k in range(b.shape[0]):\n",
    "                ab_mult[i][j] += a[i][k] * b[k][j]\n",
    "\n",
    "    return ab_mult"
   ]
  },
  {
   "cell_type": "code",
   "execution_count": 12,
   "id": "b23a4a58-f680-4f8e-a073-81bf115318d7",
   "metadata": {},
   "outputs": [
    {
     "data": {
      "text/plain": [
       "array([[  6.,  29., -20.],\n",
       "       [ 12.,  52.,  38.],\n",
       "       [-18., -51., -48.]])"
      ]
     },
     "execution_count": 12,
     "metadata": {},
     "output_type": "execute_result"
    }
   ],
   "source": [
    "matrix_multiplication(a_ndarray, b_ndarray)"
   ]
  },
  {
   "cell_type": "markdown",
   "id": "da1588bd-e5c8-44e6-b865-239432625fe7",
   "metadata": {},
   "source": [
    "[Problem 5] Judge the input whose calculation is not defined"
   ]
  },
  {
   "cell_type": "code",
   "execution_count": 18,
   "id": "93573017-9275-41c1-8121-ce6533007410",
   "metadata": {},
   "outputs": [],
   "source": [
    "d_ndarray = np.array([[-1, 2, 3], [4, -5, 6]])\n",
    "e_ndarray = np.array([[-9, 8, 7], [6, -5, 4]])"
   ]
  },
  {
   "cell_type": "code",
   "execution_count": 19,
   "id": "c52138cb-524e-440a-ab99-b9f06a7675ca",
   "metadata": {},
   "outputs": [
    {
     "ename": "AssertionError",
     "evalue": "Matrix dim is not suitable",
     "output_type": "error",
     "traceback": [
      "\u001b[1;31m---------------------------------------------------------------------------\u001b[0m",
      "\u001b[1;31mAssertionError\u001b[0m                            Traceback (most recent call last)",
      "Cell \u001b[1;32mIn[19], line 1\u001b[0m\n\u001b[1;32m----> 1\u001b[0m matrix_multiplication(d_ndarray, e_ndarray)\n",
      "Cell \u001b[1;32mIn[11], line 5\u001b[0m, in \u001b[0;36mmatrix_multiplication\u001b[1;34m(a, b)\u001b[0m\n\u001b[0;32m      1\u001b[0m \u001b[38;5;28;01mdef\u001b[39;00m \u001b[38;5;21mmatrix_multiplication\u001b[39m(a, b):\n\u001b[0;32m      2\u001b[0m \n\u001b[0;32m      3\u001b[0m     \u001b[38;5;66;03m## TODO comment\u001b[39;00m\n\u001b[1;32m----> 5\u001b[0m     \u001b[38;5;28;01massert\u001b[39;00m a\u001b[38;5;241m.\u001b[39mshape[\u001b[38;5;241m0\u001b[39m]\u001b[38;5;241m==\u001b[39mb\u001b[38;5;241m.\u001b[39mshape[\u001b[38;5;241m1\u001b[39m], \u001b[38;5;124m\"\u001b[39m\u001b[38;5;124mMatrix dim is not suitable\u001b[39m\u001b[38;5;124m\"\u001b[39m  \u001b[38;5;66;03m#ERROR MSG\u001b[39;00m\n\u001b[0;32m      7\u001b[0m     ab_mult \u001b[38;5;241m=\u001b[39m np\u001b[38;5;241m.\u001b[39mzeros((a\u001b[38;5;241m.\u001b[39mshape[\u001b[38;5;241m0\u001b[39m], b\u001b[38;5;241m.\u001b[39mshape[\u001b[38;5;241m1\u001b[39m]))\n\u001b[0;32m      9\u001b[0m     \u001b[38;5;28;01mfor\u001b[39;00m i \u001b[38;5;129;01min\u001b[39;00m \u001b[38;5;28mrange\u001b[39m(a\u001b[38;5;241m.\u001b[39mshape[\u001b[38;5;241m0\u001b[39m]):\n",
      "\u001b[1;31mAssertionError\u001b[0m: Matrix dim is not suitable"
     ]
    }
   ],
   "source": [
    "matrix_multiplication(d_ndarray, e_ndarray)"
   ]
  },
  {
   "cell_type": "markdown",
   "id": "65bacb87-b73e-40f3-a461-5e8004906048",
   "metadata": {},
   "source": [
    "[Problem 6] Transposition"
   ]
  },
  {
   "cell_type": "code",
   "execution_count": 20,
   "id": "4a642637-af38-46c1-8819-4e30071748f5",
   "metadata": {},
   "outputs": [
    {
     "name": "stdout",
     "output_type": "stream",
     "text": [
      "[[-9  8  7]\n",
      " [ 6 -5  4]]\n"
     ]
    },
    {
     "data": {
      "text/plain": [
       "array([[-9,  6],\n",
       "       [ 8, -5],\n",
       "       [ 7,  4]])"
      ]
     },
     "execution_count": 20,
     "metadata": {},
     "output_type": "execute_result"
    }
   ],
   "source": [
    "print(e_ndarray)\n",
    "np.transpose(e_ndarray)"
   ]
  },
  {
   "cell_type": "code",
   "execution_count": 21,
   "id": "7c3b3e69-ea70-44ca-8a36-bf153ad2453a",
   "metadata": {},
   "outputs": [
    {
     "data": {
      "text/plain": [
       "array([[-9,  6],\n",
       "       [ 8, -5],\n",
       "       [ 7,  4]])"
      ]
     },
     "execution_count": 21,
     "metadata": {},
     "output_type": "execute_result"
    }
   ],
   "source": [
    "e_ndarray.T"
   ]
  },
  {
   "cell_type": "code",
   "execution_count": 22,
   "id": "1f82dc8b-6555-44cd-9e2c-b469a5f2e776",
   "metadata": {},
   "outputs": [
    {
     "data": {
      "text/plain": [
       "array([[ 46.,  -4.],\n",
       "       [-34.,  73.]])"
      ]
     },
     "execution_count": 22,
     "metadata": {},
     "output_type": "execute_result"
    }
   ],
   "source": [
    "matrix_multiplication(d_ndarray, e_ndarray.T)"
   ]
  }
 ],
 "metadata": {
  "kernelspec": {
   "display_name": "Python 3 (ipykernel)",
   "language": "python",
   "name": "python3"
  },
  "language_info": {
   "codemirror_mode": {
    "name": "ipython",
    "version": 3
   },
   "file_extension": ".py",
   "mimetype": "text/x-python",
   "name": "python",
   "nbconvert_exporter": "python",
   "pygments_lexer": "ipython3",
   "version": "3.12.2"
  }
 },
 "nbformat": 4,
 "nbformat_minor": 5
}
