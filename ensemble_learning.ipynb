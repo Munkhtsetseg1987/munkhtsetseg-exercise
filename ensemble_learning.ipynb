{
 "cells": [
  {
   "cell_type": "code",
   "execution_count": null,
   "id": "5f33e614-a2b2-4033-926c-0091f26499a2",
   "metadata": {},
   "outputs": [],
   "source": [
    "import pandas as pd\n",
    "import numpy as np\n",
    "from sklearn.metrics import mean_squared_error\n",
    "from sklearn.linear_model import LinearRegression\n",
    "from sklearn.svm import SVR\n",
    "from sklearn.tree import DecisionTreeRegressor\n",
    "from sklearn.ensemble import RandomForestRegressor\n",
    "from sklearn.model_selection import train_test_split"
   ]
  },
  {
   "cell_type": "code",
   "execution_count": null,
   "id": "d7389865-03b1-40e3-adfe-00bea0de2646",
   "metadata": {},
   "outputs": [],
   "source": [
    "train_df = pd.read_csv('../data/house_price/train.csv')"
   ]
  },
  {
   "cell_type": "code",
   "execution_count": null,
   "id": "59064225-d30d-49a5-a0b4-ba8a665d5ea6",
   "metadata": {},
   "outputs": [],
   "source": [
    "input_cols = ['GrLivArea', 'YearBuilt']\n",
    "target = 'SalePrice'\n",
    "train_df[target] = np.log(train_df[target])"
   ]
  },
  {
   "cell_type": "code",
   "execution_count": null,
   "id": "8709b31b-7f6e-4912-922e-52eafbd4c9a7",
   "metadata": {},
   "outputs": [],
   "source": [
    "train_set, test_set = train_test_split(train_df, test_size=0.2,\n",
    "                                       shuffle=True, random_state=42)"
   ]
  },
  {
   "cell_type": "code",
   "execution_count": null,
   "id": "4df5c646-20d7-4386-a129-a6ee24e86825",
   "metadata": {},
   "outputs": [],
   "source": [
    "metrics = {'linear_reg':[],\n",
    "           'svr':[],\n",
    "           'dt':[]}\n",
    "\n",
    "models = [LinearRegression(), DecisionTreeRegressor(), SVR()]\n",
    "\n",
    "model_names = ['linear_reg', 'svr', 'dt',]\n",
    "preds = {}\n",
    "oofs = []\n",
    "for name, model in zip(model_names, models):\n",
    "    reg = model.fit(train_set[input_cols], train_set[target])\n",
    "    oofs.append(reg.predict(train_set[input_cols]))\n",
    "    pred = reg.predict(test_set[input_cols])\n",
    "    score = mean_squared_error(test_set[target], pred)\n",
    "    metrics[name].append(score)\n",
    "    preds[name] = pred"
   ]
  },
  {
   "cell_type": "code",
   "execution_count": null,
   "id": "4a749997-4011-4d69-8d59-79a2e0d47f12",
   "metadata": {},
   "outputs": [],
   "source": [
    "#### result ####\n",
    "for name in metrics.keys():\n",
    "    print(f'Model {name}:', np.round(np.mean(metrics[name]), 3))"
   ]
  },
  {
   "cell_type": "code",
   "execution_count": null,
   "id": "e4ce924d-534d-4f59-9c8f-ed3a22025cb9",
   "metadata": {},
   "outputs": [],
   "source": [
    "### blending ####\n",
    "weights = [0.4, 0.2, 0.4]\n",
    "\n",
    "final_pred = None\n",
    "for i, name in enumerate(model_names):\n",
    "    if i==0:\n",
    "        final_pred = weights[i]*preds[name]\n",
    "    else:\n",
    "        final_pred = final_pred + weights[i]*preds[name]\n",
    "\n",
    "score = mean_squared_error(test_set[target], final_pred)\n",
    "print(f'Blending:', np.round(np.mean(score), 3))"
   ]
  },
  {
   "cell_type": "code",
   "execution_count": null,
   "id": "594c6d21-c4c4-4308-bf0b-53e187711f6b",
   "metadata": {},
   "outputs": [],
   "source": [
    "### stacking ####\n",
    "stacking_model = LinearRegression()\n",
    "X_pred = np.asarray(oofs).T\n",
    "X_test_pred = np.zeros((test_set.shape[0], 3))\n",
    "for i, name in enumerate(model_names):\n",
    "    X_test_pred[:, i] = preds[name]\n",
    "\n",
    "reg = stacking_model.fit(X_pred, train_set[target])\n",
    "pred_stack = reg.predict(X_test_pred)\n",
    "\n",
    "score = mean_squared_error(test_set[target], pred_stack)\n",
    "print(f'Stacking:', np.round(np.mean(score), 3))"
   ]
  },
  {
   "cell_type": "code",
   "execution_count": null,
   "id": "f7468066-8380-43ed-9448-d4cbed938b1b",
   "metadata": {},
   "outputs": [],
   "source": [
    "# ensemble \n",
    "#### bagging ###\n",
    "bagging = 5\n",
    "\n",
    "metrics = {'linear_reg': [],\n",
    "           'svr': [],\n",
    "           'dt': []}\n",
    "\n",
    "models = [LinearRegression(), DecisionTreeRegressor(),   SVR()]\n",
    "model_names = ['linear_reg', 'svr', 'dt', ]\n",
    "preds = {}\n",
    "\n",
    "for i in range(bagging):\n",
    "    frac = np.random.randint(80, 90)\n",
    "    train_ = train_set.sample(int(train_set.shape[0]*frac/100))\n",
    "    for name, model in zip(model_names, models):\n",
    "        reg = model.fit(train_[input_cols], train_[target])\n",
    "        pred = reg.predict(test_set[input_cols])\n",
    "        score = mean_squared_error(test_set[target], pred)\n",
    "        metrics[name].append(score)\n",
    "        if i==0:\n",
    "            preds[name] = pred/bagging\n",
    "        else:\n",
    "            preds[name] += pred / bagging"
   ]
  },
  {
   "cell_type": "code",
   "execution_count": null,
   "id": "7fdf5445-0462-4494-b145-f9eedc2023fd",
   "metadata": {},
   "outputs": [],
   "source": [
    "#### result ####\n",
    "for name in metrics.keys():\n",
    "    print(f'Model {name}:', np.round(np.mean(metrics[name]), 3))\n",
    "\n",
    "weights = [0.4, 0.2, 0.4]\n",
    "\n",
    "final_pred = None\n",
    "for i, name in enumerate(model_names):\n",
    "    if i==0:\n",
    "        final_pred = weights[i]*preds[name]\n",
    "    else:\n",
    "        final_pred = final_pred + weights[i]*preds[name]\n",
    "\n",
    "score = mean_squared_error(test_set[target], final_pred)\n",
    "print(f'Bagging and Blending:', np.round(np.mean(score), 3))"
   ]
  }
 ],
 "metadata": {
  "kernelspec": {
   "display_name": "Python 3 (ipykernel)",
   "language": "python",
   "name": "python3"
  },
  "language_info": {
   "codemirror_mode": {
    "name": "ipython",
    "version": 3
   },
   "file_extension": ".py",
   "mimetype": "text/x-python",
   "name": "python",
   "nbconvert_exporter": "python",
   "pygments_lexer": "ipython3",
   "version": "3.12.3"
  }
 },
 "nbformat": 4,
 "nbformat_minor": 5
}
